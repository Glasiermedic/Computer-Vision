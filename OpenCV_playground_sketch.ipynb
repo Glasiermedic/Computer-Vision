{
  "nbformat": 4,
  "nbformat_minor": 0,
  "metadata": {
    "colab": {
      "name": "OpenCV_playground_2_4.ipynb",
      "provenance": [],
      "mount_file_id": "1nCRq_YcwgT6ivqllXuQ76PY1tJQ-Mv7m",
      "authorship_tag": "ABX9TyNMyUqSMxkRsrehUbXA+V2g",
      "include_colab_link": true
    },
    "kernelspec": {
      "name": "python3",
      "display_name": "Python 3"
    }
  },
  "cells": [
    {
      "cell_type": "markdown",
      "metadata": {
        "id": "view-in-github",
        "colab_type": "text"
      },
      "source": [
        "<a href=\"https://colab.research.google.com/github/Glasiermedic/Computer-Vision/blob/master/OpenCV_playground_sketch.ipynb\" target=\"_parent\"><img src=\"https://colab.research.google.com/assets/colab-badge.svg\" alt=\"Open In Colab\"/></a>"
      ]
    },
    {
      "cell_type": "markdown",
      "metadata": {
        "id": "gzF4oOdwTFXF",
        "colab_type": "text"
      },
      "source": [
        "OpenCV course playground"
      ]
    },
    {
      "cell_type": "markdown",
      "metadata": {
        "id": "Jao2yQVAUxkl",
        "colab_type": "text"
      },
      "source": [
        "# Intro\n",
        "\n",
        "### A small program that uses the webcam or a video file and converts it to a live sketch through edge detection. \n"
      ]
    },
    {
      "cell_type": "code",
      "metadata": {
        "id": "7oxj-sIAHvhv",
        "colab_type": "code",
        "colab": {}
      },
      "source": [
        "import numpy as np\n",
        "import cv2\n",
        "\n",
        "cap = cv2.VideoCapture(0)\n",
        "\n",
        "while(True):\n",
        "    # Capture frame-by-frame\n",
        "    ret, frame = cap.read()\n",
        "\n",
        "    # Our operations on the frame come here\n",
        "    gray = cv2.cvtColor(frame, cv2.COLOR_BGR2GRAY)\n",
        "\n",
        "    # Display the resulting frame\n",
        "    cv2.imshow('frame',gray)\n",
        "    if cv2.waitKey(1) & 0xFF == ord('q'):\n",
        "        break\n",
        "\n",
        "# When everything done, release the capture\n",
        "cap.release()\n",
        "cv2.destroyAllWindows()\n"
      ],
      "execution_count": 0,
      "outputs": []
    },
    {
      "cell_type": "code",
      "metadata": {
        "id": "-m4LbSDyHwbU",
        "colab_type": "code",
        "colab": {}
      },
      "source": [
        ""
      ],
      "execution_count": 0,
      "outputs": []
    }
  ]
}